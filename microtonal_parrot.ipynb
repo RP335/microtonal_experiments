{
  "nbformat": 4,
  "nbformat_minor": 0,
  "metadata": {
    "colab": {
      "provenance": [],
      "authorship_tag": "ABX9TyOgow2s6qWNxB6APeAJFr3+",
      "include_colab_link": true
    },
    "kernelspec": {
      "name": "python3",
      "display_name": "Python 3"
    },
    "language_info": {
      "name": "python"
    }
  },
  "cells": [
    {
      "cell_type": "markdown",
      "metadata": {
        "id": "view-in-github",
        "colab_type": "text"
      },
      "source": [
        "<a href=\"https://colab.research.google.com/github/RP335/microtonal_experiments/blob/main/microtonal_parrot.ipynb\" target=\"_parent\"><img src=\"https://colab.research.google.com/assets/colab-badge.svg\" alt=\"Open In Colab\"/></a>"
      ]
    },
    {
      "cell_type": "markdown",
      "source": [
        "Generator for 180 midi files for the dataset. different kinds of edo classes and only triads."
      ],
      "metadata": {
        "id": "bYQxQW_OnYo-"
      }
    },
    {
      "cell_type": "code",
      "execution_count": 32,
      "metadata": {
        "colab": {
          "base_uri": "https://localhost:8080/"
        },
        "collapsed": true,
        "id": "slI8R3qpjM-g",
        "outputId": "b0a5e98d-1f09-4f38-cfc1-53ed27e10509"
      },
      "outputs": [
        {
          "output_type": "stream",
          "name": "stdout",
          "text": [
            "Reading package lists... Done\n",
            "Building dependency tree... Done\n",
            "Reading state information... Done\n",
            "E: Unable to locate package python3.11.7\n",
            "E: Couldn't find any package by glob 'python3.11.7'\n",
            "E: Couldn't find any package by regex 'python3.11.7'\n",
            "Python 3.10.12\n",
            "Requirement already satisfied: mido in /usr/local/lib/python3.10/dist-packages (1.3.2)\n",
            "Requirement already satisfied: packaging~=23.1 in /usr/local/lib/python3.10/dist-packages (from mido) (23.2)\n",
            "Reading package lists... Done\n",
            "Building dependency tree... Done\n",
            "Reading state information... Done\n",
            "fluidsynth is already the newest version (2.2.5-1).\n",
            "0 upgraded, 0 newly installed, 0 to remove and 45 not upgraded.\n",
            "Requirement already satisfied: midi2audio in /usr/local/lib/python3.10/dist-packages (0.1.1)\n",
            "Requirement already satisfied: music21 in /usr/local/lib/python3.10/dist-packages (9.1.0)\n",
            "Requirement already satisfied: chardet in /usr/local/lib/python3.10/dist-packages (from music21) (5.2.0)\n",
            "Requirement already satisfied: joblib in /usr/local/lib/python3.10/dist-packages (from music21) (1.4.2)\n",
            "Requirement already satisfied: jsonpickle in /usr/local/lib/python3.10/dist-packages (from music21) (3.0.4)\n",
            "Requirement already satisfied: matplotlib in /usr/local/lib/python3.10/dist-packages (from music21) (3.7.1)\n",
            "Requirement already satisfied: more-itertools in /usr/local/lib/python3.10/dist-packages (from music21) (10.1.0)\n",
            "Requirement already satisfied: numpy in /usr/local/lib/python3.10/dist-packages (from music21) (1.25.2)\n",
            "Requirement already satisfied: requests in /usr/local/lib/python3.10/dist-packages (from music21) (2.31.0)\n",
            "Requirement already satisfied: webcolors>=1.5 in /usr/local/lib/python3.10/dist-packages (from music21) (1.13)\n",
            "Requirement already satisfied: contourpy>=1.0.1 in /usr/local/lib/python3.10/dist-packages (from matplotlib->music21) (1.2.1)\n",
            "Requirement already satisfied: cycler>=0.10 in /usr/local/lib/python3.10/dist-packages (from matplotlib->music21) (0.12.1)\n",
            "Requirement already satisfied: fonttools>=4.22.0 in /usr/local/lib/python3.10/dist-packages (from matplotlib->music21) (4.52.4)\n",
            "Requirement already satisfied: kiwisolver>=1.0.1 in /usr/local/lib/python3.10/dist-packages (from matplotlib->music21) (1.4.5)\n",
            "Requirement already satisfied: packaging>=20.0 in /usr/local/lib/python3.10/dist-packages (from matplotlib->music21) (23.2)\n",
            "Requirement already satisfied: pillow>=6.2.0 in /usr/local/lib/python3.10/dist-packages (from matplotlib->music21) (9.4.0)\n",
            "Requirement already satisfied: pyparsing>=2.3.1 in /usr/local/lib/python3.10/dist-packages (from matplotlib->music21) (3.1.2)\n",
            "Requirement already satisfied: python-dateutil>=2.7 in /usr/local/lib/python3.10/dist-packages (from matplotlib->music21) (2.8.2)\n",
            "Requirement already satisfied: charset-normalizer<4,>=2 in /usr/local/lib/python3.10/dist-packages (from requests->music21) (3.3.2)\n",
            "Requirement already satisfied: idna<4,>=2.5 in /usr/local/lib/python3.10/dist-packages (from requests->music21) (3.7)\n",
            "Requirement already satisfied: urllib3<3,>=1.21.1 in /usr/local/lib/python3.10/dist-packages (from requests->music21) (2.0.7)\n",
            "Requirement already satisfied: certifi>=2017.4.17 in /usr/local/lib/python3.10/dist-packages (from requests->music21) (2024.2.2)\n",
            "Requirement already satisfied: six>=1.5 in /usr/local/lib/python3.10/dist-packages (from python-dateutil>=2.7->matplotlib->music21) (1.16.0)\n",
            "\u001b[31mERROR: Ignored the following versions that require a different python version: 0.1.0 Requires-Python >=3.11.7; 0.1.1 Requires-Python >=3.11.7\u001b[0m\u001b[31m\n",
            "\u001b[0m\u001b[31mERROR: Could not find a version that satisfies the requirement xenharmlib (from versions: none)\u001b[0m\u001b[31m\n",
            "\u001b[0m\u001b[31mERROR: No matching distribution found for xenharmlib\u001b[0m\u001b[31m\n",
            "\u001b[0m"
          ]
        }
      ],
      "source": [
        "!sudo apt-get install python@3.11.7\n",
        "!python3 --version\n",
        "!pip install mido\n",
        "!apt-get install fluidsynth\n",
        "!pip install midi2audio\n",
        "!pip install music21\n",
        "!pip install xenharmlib\n"
      ]
    },
    {
      "cell_type": "markdown",
      "source": [
        "installs"
      ],
      "metadata": {
        "id": "z3JUMgEUuxCG"
      }
    },
    {
      "cell_type": "code",
      "source": [
        "import mido\n",
        "import os\n",
        "from midi2audio import FluidSynth\n",
        "import librosa\n",
        "import numpy as np\n",
        "import os\n",
        "import pandas as pd\n",
        "import tensorflow as tf\n",
        "from sklearn.model_selection import train_test_split\n",
        "from sklearn.preprocessing import LabelEncoder\n",
        "from music21 import stream, note, midi, pitch\n",
        "# import xenharmlib as xh\n"
      ],
      "metadata": {
        "id": "WdE_YX05tECE"
      },
      "execution_count": 24,
      "outputs": []
    },
    {
      "cell_type": "code",
      "source": [
        "!rm -rf microtonal_audio_files microtonal_midi_files"
      ],
      "metadata": {
        "id": "d2c_ZWZFzDyz"
      },
      "execution_count": 33,
      "outputs": []
    },
    {
      "cell_type": "code",
      "source": [
        "# this requires 3.11.7 or greater which doesn't work with colab\n",
        "# from xenharmlib import EDOTuning, export, UpDownNotation\n",
        "\n",
        "# edos = [31, 19, 11]\n",
        "# for edo in edos:\n",
        "#     edoTuning = EDOTuning(edo)\n",
        "#     n_edo = UpDownNotation(edoTuning)\n",
        "#     chord = n_edo.note_scale(\n",
        "#         [n_edo.note(s, 4) for s in ['C', 'E', 'G', 'Bb']]\n",
        "#     )\n",
        "#     filename = f'microtonal_chord_{edo}edo.wav'\n",
        "#     export.audio.export_wav(filename, chord, duration = 2.0, play_as_chord= True, sample_rate=22500)\n"
      ],
      "metadata": {
        "id": "TL124LWr4Mgs"
      },
      "execution_count": 34,
      "outputs": []
    },
    {
      "cell_type": "markdown",
      "source": [
        "imports"
      ],
      "metadata": {
        "id": "c0VTpZ5Quz7f"
      }
    },
    {
      "cell_type": "code",
      "source": [
        "\n",
        "# # Paths\n",
        "# soundfont_path = '/usr/share/sounds/sf2/FluidR3_GM.sf2'\n",
        "# midi_dir = 'microtonal_midi_files'\n",
        "# output_dir_audio = 'microtonal_audio_files'\n",
        "\n",
        "# os.makedirs(output_dir_audio, exist_ok=True)\n",
        "\n",
        "# # Soundfont initialization\n",
        "# fs = FluidSynth(soundfont_path)\n",
        "\n",
        "# # Midi 2 audio\n",
        "# for edo in edos:\n",
        "#     for i in range(num_files_per_edo):\n",
        "#         midi_file = os.path.join(midi_dir, f'{edo}edo_chord_{i+1}.mid')\n",
        "#         audio_file = os.path.join(output_dir_audio, f'{edo}edo_chord_{i+1}.wav')\n",
        "\n",
        "#         if os.path.exists(midi_file):\n",
        "#             fs.midi_to_audio(midi_file, audio_file)\n",
        "#         else:\n",
        "#             print(f\"no file exists like this: {midi_file}\")\n",
        "\n",
        "# print(f'Converted all MIDI in d {midi_dir} directory.')\n"
      ],
      "metadata": {
        "colab": {
          "base_uri": "https://localhost:8080/"
        },
        "id": "lopoGXfGoSdP",
        "outputId": "1b52c510-8909-4720-99ac-ff203cfa2a65"
      },
      "execution_count": 20,
      "outputs": [
        {
          "output_type": "stream",
          "name": "stdout",
          "text": [
            "Converted all MIDI in d microtonal_midi_files directory.\n"
          ]
        }
      ]
    },
    {
      "cell_type": "code",
      "source": [
        "\n",
        "def extract_features(file_name):\n",
        "    y, sr = librosa.load(file_name, sr=22050)\n",
        "    mfccs = librosa.feature.mfcc(y=y, sr=sr, n_mfcc=40)\n",
        "    return np.mean(mfccs.T, axis=0)\n",
        "\n",
        "audio_dir = 'microtonal_audio_files'\n",
        "\n",
        "features = []\n",
        "labels = []\n",
        "\n",
        "# debug\n",
        "print(f\"Files in directory {audio_dir}: {os.listdir(audio_dir)}\")\n",
        "\n",
        "# Feature extraction\n",
        "for file_name in os.listdir(audio_dir):\n",
        "    if file_name.endswith('.wav'):\n",
        "        file_path = os.path.join(audio_dir, file_name)\n",
        "        # Debugging print statements\n",
        "        print(f\"Processing file: {file_path}\")\n",
        "        edo_label = file_name.split('edo')[0]\n",
        "        feature = extract_features(file_path)\n",
        "        features.append(feature)\n",
        "        labels.append(edo_label)\n",
        "\n",
        "if not features:\n",
        "    print(\"No features were extracted. Check if the files are correctly named and can be read by librosa.\")\n",
        "else:\n",
        "    df = pd.DataFrame(features)\n",
        "    df['label'] = labels\n",
        "\n",
        "    df.to_csv('microtonal_dataset.csv', index=False)\n",
        "\n",
        "    print(f'Dataset saved with {len(features)} samples.')\n"
      ],
      "metadata": {
        "colab": {
          "base_uri": "https://localhost:8080/"
        },
        "id": "FjFLuDwRpLWv",
        "outputId": "4849b96b-ee9c-4b8d-f58d-ecdc6995907b"
      },
      "execution_count": 15,
      "outputs": [
        {
          "output_type": "stream",
          "name": "stdout",
          "text": [
            "Files in directory microtonal_audio_files: []\n",
            "No features were extracted. Check if the files are correctly named and can be read by librosa.\n"
          ]
        }
      ]
    },
    {
      "cell_type": "code",
      "source": [
        "# Load dataset\n",
        "dataset = pd.read_csv('microtonal_dataset.csv')\n",
        "X = dataset.drop(columns=['label']).values\n",
        "y = dataset['label'].values\n",
        "\n",
        "# Encode labels\n",
        "le = LabelEncoder()\n",
        "y_encoded = le.fit_transform(y)\n",
        "\n",
        "# Reshape X for CNN input (single channel audio)\n",
        "X = X.reshape(X.shape[0], X.shape[1], 1)\n",
        "X_train, X_test, y_train, y_test = train_test_split(X, y_encoded, test_size=0.2, random_state=42)\n",
        "\n",
        "model = tf.keras.models.Sequential()\n",
        "\n",
        "# TDNN layers (1D Convolutional layers)\n",
        "model.add(tf.keras.layers.Conv1D(filters=32, kernel_size=3, activation='relu', input_shape=(X_train.shape[1], 1)))\n",
        "model.add(tf.keras.layers.BatchNormalization())\n",
        "model.add(tf.keras.layers.MaxPooling1D(pool_size=2))\n",
        "model.add(tf.keras.layers.Conv1D(filters=64, kernel_size=3, activation='relu'))\n",
        "model.add(tf.keras.layers.BatchNormalization())\n",
        "model.add(tf.keras.layers.MaxPooling1D(pool_size=2))\n",
        "\n",
        "# LSTM layer\n",
        "model.add(tf.keras.layers.LSTM(128, return_sequences=True))\n",
        "model.add(tf.keras.layers.LSTM(64))\n",
        "\n",
        "# Dense layers\n",
        "model.add(tf.keras.layers.Dense(128, activation='relu'))\n",
        "model.add(tf.keras.layers.Dropout(0.5))\n",
        "model.add(tf.keras.layers.Dense(len(np.unique(y_encoded)), activation='softmax'))\n",
        "\n",
        "# Compile the model\n",
        "model.compile(optimizer='adam', loss='sparse_categorical_crossentropy', metrics=['accuracy'])\n",
        "\n",
        "# Train the model\n",
        "model.fit(X_train, y_train, epochs=50, validation_data=(X_test, y_test))\n",
        "\n",
        "# Evaluate the model\n",
        "loss, accuracy = model.evaluate(X_test, y_test)\n",
        "print(f'Accuracy: {accuracy}')\n"
      ],
      "metadata": {
        "id": "RpLGOz5dtqDV"
      },
      "execution_count": null,
      "outputs": []
    }
  ]
}